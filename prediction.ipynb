{
 "cells": [
  {
   "cell_type": "markdown",
   "id": "d6f86767",
   "metadata": {},
   "source": [
    "# Predict flight cancellation probabilities and potential delay time given flight details"
   ]
  },
  {
   "cell_type": "markdown",
   "id": "1b22f7ca",
   "metadata": {},
   "source": [
    "## Data Preprocessing"
   ]
  },
  {
   "cell_type": "code",
   "execution_count": 70,
   "id": "11248582",
   "metadata": {},
   "outputs": [],
   "source": [
    "import pandas as pd\n",
    "from sklearn.preprocessing import StandardScaler, OneHotEncoder\n",
    "from sklearn.model_selection import train_test_split\n",
    "from sklearn.compose import ColumnTransformer\n",
    "from sklearn.pipeline import Pipeline\n",
    "import numpy as np\n",
    "import pickle"
   ]
  },
  {
   "cell_type": "code",
   "execution_count": 74,
   "id": "1d3035c7",
   "metadata": {},
   "outputs": [],
   "source": [
    "df = pd.read_csv('data/data-coordinates.csv', dtype={'CANCELLATION_CODE': 'string'})"
   ]
  },
  {
   "cell_type": "code",
   "execution_count": 75,
   "id": "78c9ce8a",
   "metadata": {},
   "outputs": [],
   "source": [
    "df = df[['MONTH', 'DAY_OF_MONTH', 'DAY_OF_WEEK', 'OP_UNIQUE_CARRIER', 'OP_CARRIER_FL_NUM', \n",
    "        'ORIGIN', 'DEST', 'CRS_DEP_TIME', 'CRS_ARR_TIME', 'ARR_TIME', 'ARR_DELAY', 'CANCELLED']]"
   ]
  },
  {
   "cell_type": "code",
   "execution_count": 76,
   "id": "b17c0cce",
   "metadata": {},
   "outputs": [
    {
     "data": {
      "text/html": [
       "<div>\n",
       "<style scoped>\n",
       "    .dataframe tbody tr th:only-of-type {\n",
       "        vertical-align: middle;\n",
       "    }\n",
       "\n",
       "    .dataframe tbody tr th {\n",
       "        vertical-align: top;\n",
       "    }\n",
       "\n",
       "    .dataframe thead th {\n",
       "        text-align: right;\n",
       "    }\n",
       "</style>\n",
       "<table border=\"1\" class=\"dataframe\">\n",
       "  <thead>\n",
       "    <tr style=\"text-align: right;\">\n",
       "      <th></th>\n",
       "      <th>MONTH</th>\n",
       "      <th>DAY_OF_MONTH</th>\n",
       "      <th>DAY_OF_WEEK</th>\n",
       "      <th>OP_UNIQUE_CARRIER</th>\n",
       "      <th>OP_CARRIER_FL_NUM</th>\n",
       "      <th>ORIGIN</th>\n",
       "      <th>DEST</th>\n",
       "      <th>CRS_DEP_TIME</th>\n",
       "      <th>CRS_ARR_TIME</th>\n",
       "      <th>ARR_TIME</th>\n",
       "      <th>ARR_DELAY</th>\n",
       "      <th>CANCELLED</th>\n",
       "    </tr>\n",
       "  </thead>\n",
       "  <tbody>\n",
       "    <tr>\n",
       "      <th>0</th>\n",
       "      <td>1</td>\n",
       "      <td>17</td>\n",
       "      <td>7</td>\n",
       "      <td>DL</td>\n",
       "      <td>1114</td>\n",
       "      <td>BOS</td>\n",
       "      <td>TPA</td>\n",
       "      <td>1547</td>\n",
       "      <td>1907</td>\n",
       "      <td>1927.0</td>\n",
       "      <td>20.0</td>\n",
       "      <td>0.0</td>\n",
       "    </tr>\n",
       "    <tr>\n",
       "      <th>1</th>\n",
       "      <td>1</td>\n",
       "      <td>17</td>\n",
       "      <td>7</td>\n",
       "      <td>DL</td>\n",
       "      <td>1126</td>\n",
       "      <td>SDF</td>\n",
       "      <td>ATL</td>\n",
       "      <td>1541</td>\n",
       "      <td>1705</td>\n",
       "      <td>2132.0</td>\n",
       "      <td>267.0</td>\n",
       "      <td>0.0</td>\n",
       "    </tr>\n",
       "    <tr>\n",
       "      <th>2</th>\n",
       "      <td>1</td>\n",
       "      <td>17</td>\n",
       "      <td>7</td>\n",
       "      <td>DL</td>\n",
       "      <td>1173</td>\n",
       "      <td>SRQ</td>\n",
       "      <td>MSP</td>\n",
       "      <td>1410</td>\n",
       "      <td>1649</td>\n",
       "      <td>1735.0</td>\n",
       "      <td>46.0</td>\n",
       "      <td>0.0</td>\n",
       "    </tr>\n",
       "    <tr>\n",
       "      <th>3</th>\n",
       "      <td>1</td>\n",
       "      <td>17</td>\n",
       "      <td>7</td>\n",
       "      <td>DL</td>\n",
       "      <td>1205</td>\n",
       "      <td>MSP</td>\n",
       "      <td>BWI</td>\n",
       "      <td>1840</td>\n",
       "      <td>2153</td>\n",
       "      <td>2212.0</td>\n",
       "      <td>19.0</td>\n",
       "      <td>0.0</td>\n",
       "    </tr>\n",
       "    <tr>\n",
       "      <th>4</th>\n",
       "      <td>1</td>\n",
       "      <td>17</td>\n",
       "      <td>7</td>\n",
       "      <td>DL</td>\n",
       "      <td>1216</td>\n",
       "      <td>ORD</td>\n",
       "      <td>ATL</td>\n",
       "      <td>805</td>\n",
       "      <td>1104</td>\n",
       "      <td>1136.0</td>\n",
       "      <td>32.0</td>\n",
       "      <td>0.0</td>\n",
       "    </tr>\n",
       "  </tbody>\n",
       "</table>\n",
       "</div>"
      ],
      "text/plain": [
       "   MONTH  DAY_OF_MONTH  DAY_OF_WEEK OP_UNIQUE_CARRIER  OP_CARRIER_FL_NUM  \\\n",
       "0      1            17            7                DL               1114   \n",
       "1      1            17            7                DL               1126   \n",
       "2      1            17            7                DL               1173   \n",
       "3      1            17            7                DL               1205   \n",
       "4      1            17            7                DL               1216   \n",
       "\n",
       "  ORIGIN DEST  CRS_DEP_TIME  CRS_ARR_TIME  ARR_TIME  ARR_DELAY  CANCELLED  \n",
       "0    BOS  TPA          1547          1907    1927.0       20.0        0.0  \n",
       "1    SDF  ATL          1541          1705    2132.0      267.0        0.0  \n",
       "2    SRQ  MSP          1410          1649    1735.0       46.0        0.0  \n",
       "3    MSP  BWI          1840          2153    2212.0       19.0        0.0  \n",
       "4    ORD  ATL           805          1104    1136.0       32.0        0.0  "
      ]
     },
     "execution_count": 76,
     "metadata": {},
     "output_type": "execute_result"
    }
   ],
   "source": [
    "df.head()"
   ]
  },
  {
   "cell_type": "code",
   "execution_count": 77,
   "id": "25b8e814",
   "metadata": {},
   "outputs": [
    {
     "data": {
      "text/plain": [
       "MONTH                  int64\n",
       "DAY_OF_MONTH           int64\n",
       "DAY_OF_WEEK            int64\n",
       "OP_UNIQUE_CARRIER     object\n",
       "OP_CARRIER_FL_NUM      int64\n",
       "ORIGIN                object\n",
       "DEST                  object\n",
       "CRS_DEP_TIME           int64\n",
       "CRS_ARR_TIME           int64\n",
       "ARR_TIME             float64\n",
       "ARR_DELAY            float64\n",
       "CANCELLED            float64\n",
       "dtype: object"
      ]
     },
     "execution_count": 77,
     "metadata": {},
     "output_type": "execute_result"
    }
   ],
   "source": [
    "df.dtypes"
   ]
  },
  {
   "cell_type": "code",
   "execution_count": 111,
   "id": "a08d243d",
   "metadata": {},
   "outputs": [
    {
     "data": {
      "text/plain": [
       "array(['MONTH', 'DAY_OF_MONTH', 'DAY_OF_WEEK', 'OP_UNIQUE_CARRIER',\n",
       "       'OP_CARRIER_FL_NUM', 'ORIGIN', 'DEST', 'CRS_DEP_TIME',\n",
       "       'CRS_ARR_TIME', 'ARR_DELAY', 'CANCELLED'], dtype=object)"
      ]
     },
     "execution_count": 111,
     "metadata": {},
     "output_type": "execute_result"
    }
   ],
   "source": [
    "df.columns.values"
   ]
  },
  {
   "cell_type": "code",
   "execution_count": 79,
   "id": "77d9a008",
   "metadata": {},
   "outputs": [
    {
     "data": {
      "text/html": [
       "<div>\n",
       "<style scoped>\n",
       "    .dataframe tbody tr th:only-of-type {\n",
       "        vertical-align: middle;\n",
       "    }\n",
       "\n",
       "    .dataframe tbody tr th {\n",
       "        vertical-align: top;\n",
       "    }\n",
       "\n",
       "    .dataframe thead th {\n",
       "        text-align: right;\n",
       "    }\n",
       "</style>\n",
       "<table border=\"1\" class=\"dataframe\">\n",
       "  <thead>\n",
       "    <tr style=\"text-align: right;\">\n",
       "      <th></th>\n",
       "      <th>MONTH</th>\n",
       "      <th>DAY_OF_MONTH</th>\n",
       "      <th>DAY_OF_WEEK</th>\n",
       "      <th>OP_UNIQUE_CARRIER</th>\n",
       "      <th>OP_CARRIER_FL_NUM</th>\n",
       "      <th>ORIGIN</th>\n",
       "      <th>DEST</th>\n",
       "      <th>CRS_DEP_TIME</th>\n",
       "      <th>CRS_ARR_TIME</th>\n",
       "      <th>ARR_TIME</th>\n",
       "      <th>ARR_DELAY</th>\n",
       "      <th>CANCELLED</th>\n",
       "    </tr>\n",
       "  </thead>\n",
       "  <tbody>\n",
       "    <tr>\n",
       "      <th>0</th>\n",
       "      <td>1</td>\n",
       "      <td>17</td>\n",
       "      <td>7</td>\n",
       "      <td>DL</td>\n",
       "      <td>1114</td>\n",
       "      <td>BOS</td>\n",
       "      <td>TPA</td>\n",
       "      <td>1547</td>\n",
       "      <td>1907</td>\n",
       "      <td>1927.0</td>\n",
       "      <td>20.0</td>\n",
       "      <td>0.0</td>\n",
       "    </tr>\n",
       "    <tr>\n",
       "      <th>1</th>\n",
       "      <td>1</td>\n",
       "      <td>17</td>\n",
       "      <td>7</td>\n",
       "      <td>DL</td>\n",
       "      <td>1126</td>\n",
       "      <td>SDF</td>\n",
       "      <td>ATL</td>\n",
       "      <td>1541</td>\n",
       "      <td>1705</td>\n",
       "      <td>2132.0</td>\n",
       "      <td>267.0</td>\n",
       "      <td>0.0</td>\n",
       "    </tr>\n",
       "    <tr>\n",
       "      <th>2</th>\n",
       "      <td>1</td>\n",
       "      <td>17</td>\n",
       "      <td>7</td>\n",
       "      <td>DL</td>\n",
       "      <td>1173</td>\n",
       "      <td>SRQ</td>\n",
       "      <td>MSP</td>\n",
       "      <td>1410</td>\n",
       "      <td>1649</td>\n",
       "      <td>1735.0</td>\n",
       "      <td>46.0</td>\n",
       "      <td>0.0</td>\n",
       "    </tr>\n",
       "    <tr>\n",
       "      <th>3</th>\n",
       "      <td>1</td>\n",
       "      <td>17</td>\n",
       "      <td>7</td>\n",
       "      <td>DL</td>\n",
       "      <td>1205</td>\n",
       "      <td>MSP</td>\n",
       "      <td>BWI</td>\n",
       "      <td>1840</td>\n",
       "      <td>2153</td>\n",
       "      <td>2212.0</td>\n",
       "      <td>19.0</td>\n",
       "      <td>0.0</td>\n",
       "    </tr>\n",
       "    <tr>\n",
       "      <th>4</th>\n",
       "      <td>1</td>\n",
       "      <td>17</td>\n",
       "      <td>7</td>\n",
       "      <td>DL</td>\n",
       "      <td>1216</td>\n",
       "      <td>ORD</td>\n",
       "      <td>ATL</td>\n",
       "      <td>805</td>\n",
       "      <td>1104</td>\n",
       "      <td>1136.0</td>\n",
       "      <td>32.0</td>\n",
       "      <td>0.0</td>\n",
       "    </tr>\n",
       "  </tbody>\n",
       "</table>\n",
       "</div>"
      ],
      "text/plain": [
       "   MONTH  DAY_OF_MONTH  DAY_OF_WEEK OP_UNIQUE_CARRIER  OP_CARRIER_FL_NUM  \\\n",
       "0      1            17            7                DL               1114   \n",
       "1      1            17            7                DL               1126   \n",
       "2      1            17            7                DL               1173   \n",
       "3      1            17            7                DL               1205   \n",
       "4      1            17            7                DL               1216   \n",
       "\n",
       "  ORIGIN DEST  CRS_DEP_TIME  CRS_ARR_TIME  ARR_TIME  ARR_DELAY  CANCELLED  \n",
       "0    BOS  TPA          1547          1907    1927.0       20.0        0.0  \n",
       "1    SDF  ATL          1541          1705    2132.0      267.0        0.0  \n",
       "2    SRQ  MSP          1410          1649    1735.0       46.0        0.0  \n",
       "3    MSP  BWI          1840          2153    2212.0       19.0        0.0  \n",
       "4    ORD  ATL           805          1104    1136.0       32.0        0.0  "
      ]
     },
     "execution_count": 79,
     "metadata": {},
     "output_type": "execute_result"
    }
   ],
   "source": [
    "df.head()"
   ]
  },
  {
   "cell_type": "code",
   "execution_count": 80,
   "id": "7c8e1109",
   "metadata": {},
   "outputs": [],
   "source": [
    "df['ARR_DELAY'] = df['ARR_DELAY'].fillna(0)\n",
    "df = df.drop([\"ARR_TIME\"], axis=1)"
   ]
  },
  {
   "cell_type": "code",
   "execution_count": 81,
   "id": "0abd26cb",
   "metadata": {},
   "outputs": [],
   "source": [
    "delay_X = df.drop([\"ARR_DELAY\", \"CANCELLED\"], axis=1)\n",
    "delay_Y = df[\"ARR_DELAY\"].copy()\n",
    "\n",
    "cancel_X = delay_X.copy()\n",
    "cancel_Y = df[\"CANCELLED\"].copy()"
   ]
  },
  {
   "cell_type": "code",
   "execution_count": 82,
   "id": "466d2ee8",
   "metadata": {},
   "outputs": [],
   "source": [
    "num_features = list(delay_X.drop([\"OP_UNIQUE_CARRIER\", \"ORIGIN\", \"DEST\"], axis=1))\n",
    "cat_features = [\"OP_UNIQUE_CARRIER\", \"ORIGIN\", \"DEST\"]\n",
    "\n",
    "full_pipeline = ColumnTransformer([\n",
    "    (\"num\", StandardScaler(), num_features),\n",
    "    (\"cat\", OneHotEncoder(), cat_features)\n",
    "])"
   ]
  },
  {
   "cell_type": "code",
   "execution_count": 83,
   "id": "566c37f9",
   "metadata": {},
   "outputs": [],
   "source": [
    "delay_X = full_pipeline.fit_transform(delay_X)\n",
    "cancel_X = full_pipeline.fit_transform(cancel_X)"
   ]
  },
  {
   "cell_type": "code",
   "execution_count": 84,
   "id": "8b0db49e",
   "metadata": {},
   "outputs": [],
   "source": [
    "delay_train_X, delay_test_X, delay_train_Y, delay_test_Y = train_test_split(delay_X, delay_Y, test_size=0.1)\n",
    "cancel_train_X, cancel_test_X, cancel_train_Y, cancel_test_Y = train_test_split(cancel_X, cancel_Y, test_size=0.1)"
   ]
  },
  {
   "cell_type": "markdown",
   "id": "a9f5e2ba",
   "metadata": {},
   "source": [
    "### Save Transformer"
   ]
  },
  {
   "cell_type": "code",
   "execution_count": 85,
   "id": "d52bb750",
   "metadata": {},
   "outputs": [],
   "source": [
    "filename = 'saved_models/data_transformer.sav'\n",
    "pickle.dump(full_pipeline, open(filename, 'wb'))"
   ]
  },
  {
   "cell_type": "code",
   "execution_count": 86,
   "id": "31af79c4",
   "metadata": {},
   "outputs": [],
   "source": [
    "loaded_model = pickle.load(open(filename, 'rb'))"
   ]
  },
  {
   "cell_type": "markdown",
   "id": "1c269456",
   "metadata": {},
   "source": [
    "## Train Model: Delay"
   ]
  },
  {
   "cell_type": "markdown",
   "id": "24f6fc7b",
   "metadata": {},
   "source": [
    "### Linear Regression"
   ]
  },
  {
   "cell_type": "code",
   "execution_count": 87,
   "id": "75d1a7f7",
   "metadata": {},
   "outputs": [],
   "source": [
    "from sklearn.linear_model import LinearRegression"
   ]
  },
  {
   "cell_type": "code",
   "execution_count": 88,
   "id": "30960676",
   "metadata": {},
   "outputs": [
    {
     "data": {
      "text/html": [
       "<style>#sk-container-id-3 {color: black;background-color: white;}#sk-container-id-3 pre{padding: 0;}#sk-container-id-3 div.sk-toggleable {background-color: white;}#sk-container-id-3 label.sk-toggleable__label {cursor: pointer;display: block;width: 100%;margin-bottom: 0;padding: 0.3em;box-sizing: border-box;text-align: center;}#sk-container-id-3 label.sk-toggleable__label-arrow:before {content: \"▸\";float: left;margin-right: 0.25em;color: #696969;}#sk-container-id-3 label.sk-toggleable__label-arrow:hover:before {color: black;}#sk-container-id-3 div.sk-estimator:hover label.sk-toggleable__label-arrow:before {color: black;}#sk-container-id-3 div.sk-toggleable__content {max-height: 0;max-width: 0;overflow: hidden;text-align: left;background-color: #f0f8ff;}#sk-container-id-3 div.sk-toggleable__content pre {margin: 0.2em;color: black;border-radius: 0.25em;background-color: #f0f8ff;}#sk-container-id-3 input.sk-toggleable__control:checked~div.sk-toggleable__content {max-height: 200px;max-width: 100%;overflow: auto;}#sk-container-id-3 input.sk-toggleable__control:checked~label.sk-toggleable__label-arrow:before {content: \"▾\";}#sk-container-id-3 div.sk-estimator input.sk-toggleable__control:checked~label.sk-toggleable__label {background-color: #d4ebff;}#sk-container-id-3 div.sk-label input.sk-toggleable__control:checked~label.sk-toggleable__label {background-color: #d4ebff;}#sk-container-id-3 input.sk-hidden--visually {border: 0;clip: rect(1px 1px 1px 1px);clip: rect(1px, 1px, 1px, 1px);height: 1px;margin: -1px;overflow: hidden;padding: 0;position: absolute;width: 1px;}#sk-container-id-3 div.sk-estimator {font-family: monospace;background-color: #f0f8ff;border: 1px dotted black;border-radius: 0.25em;box-sizing: border-box;margin-bottom: 0.5em;}#sk-container-id-3 div.sk-estimator:hover {background-color: #d4ebff;}#sk-container-id-3 div.sk-parallel-item::after {content: \"\";width: 100%;border-bottom: 1px solid gray;flex-grow: 1;}#sk-container-id-3 div.sk-label:hover label.sk-toggleable__label {background-color: #d4ebff;}#sk-container-id-3 div.sk-serial::before {content: \"\";position: absolute;border-left: 1px solid gray;box-sizing: border-box;top: 0;bottom: 0;left: 50%;z-index: 0;}#sk-container-id-3 div.sk-serial {display: flex;flex-direction: column;align-items: center;background-color: white;padding-right: 0.2em;padding-left: 0.2em;position: relative;}#sk-container-id-3 div.sk-item {position: relative;z-index: 1;}#sk-container-id-3 div.sk-parallel {display: flex;align-items: stretch;justify-content: center;background-color: white;position: relative;}#sk-container-id-3 div.sk-item::before, #sk-container-id-3 div.sk-parallel-item::before {content: \"\";position: absolute;border-left: 1px solid gray;box-sizing: border-box;top: 0;bottom: 0;left: 50%;z-index: -1;}#sk-container-id-3 div.sk-parallel-item {display: flex;flex-direction: column;z-index: 1;position: relative;background-color: white;}#sk-container-id-3 div.sk-parallel-item:first-child::after {align-self: flex-end;width: 50%;}#sk-container-id-3 div.sk-parallel-item:last-child::after {align-self: flex-start;width: 50%;}#sk-container-id-3 div.sk-parallel-item:only-child::after {width: 0;}#sk-container-id-3 div.sk-dashed-wrapped {border: 1px dashed gray;margin: 0 0.4em 0.5em 0.4em;box-sizing: border-box;padding-bottom: 0.4em;background-color: white;}#sk-container-id-3 div.sk-label label {font-family: monospace;font-weight: bold;display: inline-block;line-height: 1.2em;}#sk-container-id-3 div.sk-label-container {text-align: center;}#sk-container-id-3 div.sk-container {/* jupyter's `normalize.less` sets `[hidden] { display: none; }` but bootstrap.min.css set `[hidden] { display: none !important; }` so we also need the `!important` here to be able to override the default hidden behavior on the sphinx rendered scikit-learn.org. See: https://github.com/scikit-learn/scikit-learn/issues/21755 */display: inline-block !important;position: relative;}#sk-container-id-3 div.sk-text-repr-fallback {display: none;}</style><div id=\"sk-container-id-3\" class=\"sk-top-container\"><div class=\"sk-text-repr-fallback\"><pre>LinearRegression()</pre><b>In a Jupyter environment, please rerun this cell to show the HTML representation or trust the notebook. <br />On GitHub, the HTML representation is unable to render, please try loading this page with nbviewer.org.</b></div><div class=\"sk-container\" hidden><div class=\"sk-item\"><div class=\"sk-estimator sk-toggleable\"><input class=\"sk-toggleable__control sk-hidden--visually\" id=\"sk-estimator-id-3\" type=\"checkbox\" checked><label for=\"sk-estimator-id-3\" class=\"sk-toggleable__label sk-toggleable__label-arrow\">LinearRegression</label><div class=\"sk-toggleable__content\"><pre>LinearRegression()</pre></div></div></div></div></div>"
      ],
      "text/plain": [
       "LinearRegression()"
      ]
     },
     "execution_count": 88,
     "metadata": {},
     "output_type": "execute_result"
    }
   ],
   "source": [
    "lin_reg = LinearRegression()\n",
    "lin_reg.fit(delay_train_X, delay_train_Y)"
   ]
  },
  {
   "cell_type": "code",
   "execution_count": 89,
   "id": "edc4afaf",
   "metadata": {},
   "outputs": [
    {
     "name": "stdout",
     "output_type": "stream",
     "text": [
      "Root mean squared error: 90.9866427719302, Mean absolute error: 47.57735608101151\n"
     ]
    }
   ],
   "source": [
    "import numpy as np\n",
    "from sklearn.metrics import mean_squared_error\n",
    "from sklearn.metrics import mean_absolute_error\n",
    "\n",
    "delay_test_predictions = lin_reg.predict(delay_test_X)\n",
    "lin_mse = mean_squared_error(delay_test_Y, delay_test_predictions)\n",
    "lin_rmse = np.sqrt(lin_mse)\n",
    "lin_mae = mean_absolute_error(delay_test_Y, delay_test_predictions)\n",
    "print(f'Root mean squared error: {lin_rmse}, Mean absolute error: {lin_mae}')"
   ]
  },
  {
   "cell_type": "markdown",
   "id": "b406b4d3",
   "metadata": {},
   "source": [
    "### Retrain on all data"
   ]
  },
  {
   "cell_type": "code",
   "execution_count": 90,
   "id": "0feec2e9",
   "metadata": {},
   "outputs": [],
   "source": [
    "lin_reg = LinearRegression()\n",
    "lin_reg.fit(delay_X, delay_Y)\n",
    "\n",
    "filename = 'saved_models/delay_lin_reg.sav'\n",
    "pickle.dump(lin_reg, open(filename, 'wb'))"
   ]
  },
  {
   "cell_type": "code",
   "execution_count": 91,
   "id": "dbfca124",
   "metadata": {},
   "outputs": [
    {
     "name": "stdout",
     "output_type": "stream",
     "text": [
      "Root mean squared error: 90.9019814081227, Mean absolute error: 47.538059814494936\n"
     ]
    }
   ],
   "source": [
    "loaded_model = pickle.load(open(filename, 'rb'))\n",
    "\n",
    "delay_test_predictions = loaded_model.predict(delay_test_X)\n",
    "lin_mse = mean_squared_error(delay_test_Y, delay_test_predictions)\n",
    "lin_rmse = np.sqrt(lin_mse)\n",
    "lin_mae = mean_absolute_error(delay_test_Y, delay_test_predictions)\n",
    "print(f'Root mean squared error: {lin_rmse}, Mean absolute error: {lin_mae}')"
   ]
  },
  {
   "cell_type": "markdown",
   "id": "1f8b7a72",
   "metadata": {},
   "source": [
    "### Neural Network"
   ]
  },
  {
   "cell_type": "code",
   "execution_count": 17,
   "id": "d0a91f04",
   "metadata": {},
   "outputs": [],
   "source": [
    "import math\n",
    "import pandas as pd\n",
    "import tensorflow as tf\n",
    "from tensorflow.keras import Model\n",
    "from tensorflow.keras import Sequential\n",
    "from tensorflow.keras.optimizers import Adam\n",
    "from sklearn.preprocessing import StandardScaler\n",
    "from tensorflow.keras.layers import Dense, Dropout\n",
    "from sklearn.model_selection import train_test_split\n",
    "from tensorflow.keras.losses import MeanSquaredLogarithmicError"
   ]
  },
  {
   "cell_type": "code",
   "execution_count": 18,
   "id": "b7237fa1",
   "metadata": {},
   "outputs": [
    {
     "name": "stdout",
     "output_type": "stream",
     "text": [
      "Model: \"sequential\"\n",
      "_________________________________________________________________\n",
      " Layer (type)                Output Shape              Param #   \n",
      "=================================================================\n",
      " dense (Dense)               (None, 128)               84096     \n",
      "                                                                 \n",
      " dense_1 (Dense)             (None, 256)               33024     \n",
      "                                                                 \n",
      " dropout (Dropout)           (None, 256)               0         \n",
      "                                                                 \n",
      " dense_2 (Dense)             (None, 64)                16448     \n",
      "                                                                 \n",
      " dense_3 (Dense)             (None, 1)                 65        \n",
      "                                                                 \n",
      "=================================================================\n",
      "Total params: 133,633\n",
      "Trainable params: 133,633\n",
      "Non-trainable params: 0\n",
      "_________________________________________________________________\n"
     ]
    }
   ],
   "source": [
    "neural = Sequential()\n",
    "\n",
    "neural.add(Dense(128, kernel_initializer='normal',input_dim = delay_train_X.shape[1], activation='relu'))\n",
    "neural.add(Dense(256, kernel_initializer='normal',activation='relu'))\n",
    "neural.add(Dropout(0.2))\n",
    "neural.add(Dense(64, kernel_initializer='normal',activation='relu'))\n",
    "neural.add(Dense(1, kernel_initializer='normal',activation='linear'))\n",
    "\n",
    "neural.compile(loss='mean_squared_error', optimizer='adam', metrics=['mean_squared_error'])\n",
    "neural.summary()"
   ]
  },
  {
   "cell_type": "code",
   "execution_count": 19,
   "id": "14d410ea",
   "metadata": {},
   "outputs": [
    {
     "name": "stdout",
     "output_type": "stream",
     "text": [
      "Epoch 1/5\n",
      "    1/25689 [..............................] - ETA: 1:14:10 - loss: 27026.5723 - mean_squared_error: 27026.5723"
     ]
    },
    {
     "name": "stderr",
     "output_type": "stream",
     "text": [
      "2022-11-19 19:02:02.589482: W tensorflow/core/platform/profile_utils/cpu_utils.cc:128] Failed to get CPU frequency: 0 Hz\n"
     ]
    },
    {
     "name": "stdout",
     "output_type": "stream",
     "text": [
      "25689/25689 [==============================] - 29s 1ms/step - loss: 8290.7119 - mean_squared_error: 8290.7119 - val_loss: 8436.2725 - val_mean_squared_error: 8436.2725\n",
      "Epoch 2/5\n",
      "25689/25689 [==============================] - 27s 1ms/step - loss: 8200.4805 - mean_squared_error: 8200.4805 - val_loss: 8400.7539 - val_mean_squared_error: 8400.7539\n",
      "Epoch 3/5\n",
      "25689/25689 [==============================] - 28s 1ms/step - loss: 8155.6362 - mean_squared_error: 8155.6362 - val_loss: 8388.1494 - val_mean_squared_error: 8388.1494\n",
      "Epoch 4/5\n",
      "25689/25689 [==============================] - 28s 1ms/step - loss: 8121.4146 - mean_squared_error: 8121.4146 - val_loss: 8388.7520 - val_mean_squared_error: 8388.7520\n",
      "Epoch 5/5\n",
      "25689/25689 [==============================] - 28s 1ms/step - loss: 8090.2729 - mean_squared_error: 8090.2729 - val_loss: 8400.9561 - val_mean_squared_error: 8400.9561\n"
     ]
    },
    {
     "data": {
      "text/plain": [
       "<keras.callbacks.History at 0x2b6e6f5b0>"
      ]
     },
     "execution_count": 19,
     "metadata": {},
     "output_type": "execute_result"
    }
   ],
   "source": [
    "neural.fit(delay_train_X.toarray() , np.array(delay_train_Y) , epochs=5, batch_size=32, validation_split = 0.2)"
   ]
  },
  {
   "cell_type": "code",
   "execution_count": 20,
   "id": "7c2cdc90",
   "metadata": {},
   "outputs": [
    {
     "name": "stdout",
     "output_type": "stream",
     "text": [
      "3568/3568 [==============================] - 2s 421us/step\n",
      "Root mean squared error: 90.47897165533874, Mean absolute error: 48.10639621789416\n"
     ]
    }
   ],
   "source": [
    "import numpy as np\n",
    "from sklearn.metrics import mean_squared_error\n",
    "from sklearn.metrics import mean_absolute_error\n",
    "\n",
    "delay_test_predictions = neural.predict(delay_test_X)\n",
    "neural_mse = mean_squared_error(delay_test_Y, delay_test_predictions)\n",
    "neural_rmse = np.sqrt(neural_mse)\n",
    "neural_mae = mean_absolute_error(delay_test_Y, delay_test_predictions)\n",
    "print(f'Root mean squared error: {neural_rmse}, Mean absolute error: {neural_mae}')"
   ]
  },
  {
   "cell_type": "markdown",
   "id": "f8454baa",
   "metadata": {},
   "source": [
    "## Train Model: Cancel"
   ]
  },
  {
   "cell_type": "markdown",
   "id": "ffc936ab",
   "metadata": {},
   "source": [
    "### Logistic Regression"
   ]
  },
  {
   "cell_type": "code",
   "execution_count": 92,
   "id": "e6dfa3e0",
   "metadata": {},
   "outputs": [],
   "source": [
    "from sklearn.linear_model import LogisticRegression"
   ]
  },
  {
   "cell_type": "code",
   "execution_count": 93,
   "id": "d51db2cc",
   "metadata": {},
   "outputs": [
    {
     "data": {
      "text/html": [
       "<style>#sk-container-id-4 {color: black;background-color: white;}#sk-container-id-4 pre{padding: 0;}#sk-container-id-4 div.sk-toggleable {background-color: white;}#sk-container-id-4 label.sk-toggleable__label {cursor: pointer;display: block;width: 100%;margin-bottom: 0;padding: 0.3em;box-sizing: border-box;text-align: center;}#sk-container-id-4 label.sk-toggleable__label-arrow:before {content: \"▸\";float: left;margin-right: 0.25em;color: #696969;}#sk-container-id-4 label.sk-toggleable__label-arrow:hover:before {color: black;}#sk-container-id-4 div.sk-estimator:hover label.sk-toggleable__label-arrow:before {color: black;}#sk-container-id-4 div.sk-toggleable__content {max-height: 0;max-width: 0;overflow: hidden;text-align: left;background-color: #f0f8ff;}#sk-container-id-4 div.sk-toggleable__content pre {margin: 0.2em;color: black;border-radius: 0.25em;background-color: #f0f8ff;}#sk-container-id-4 input.sk-toggleable__control:checked~div.sk-toggleable__content {max-height: 200px;max-width: 100%;overflow: auto;}#sk-container-id-4 input.sk-toggleable__control:checked~label.sk-toggleable__label-arrow:before {content: \"▾\";}#sk-container-id-4 div.sk-estimator input.sk-toggleable__control:checked~label.sk-toggleable__label {background-color: #d4ebff;}#sk-container-id-4 div.sk-label input.sk-toggleable__control:checked~label.sk-toggleable__label {background-color: #d4ebff;}#sk-container-id-4 input.sk-hidden--visually {border: 0;clip: rect(1px 1px 1px 1px);clip: rect(1px, 1px, 1px, 1px);height: 1px;margin: -1px;overflow: hidden;padding: 0;position: absolute;width: 1px;}#sk-container-id-4 div.sk-estimator {font-family: monospace;background-color: #f0f8ff;border: 1px dotted black;border-radius: 0.25em;box-sizing: border-box;margin-bottom: 0.5em;}#sk-container-id-4 div.sk-estimator:hover {background-color: #d4ebff;}#sk-container-id-4 div.sk-parallel-item::after {content: \"\";width: 100%;border-bottom: 1px solid gray;flex-grow: 1;}#sk-container-id-4 div.sk-label:hover label.sk-toggleable__label {background-color: #d4ebff;}#sk-container-id-4 div.sk-serial::before {content: \"\";position: absolute;border-left: 1px solid gray;box-sizing: border-box;top: 0;bottom: 0;left: 50%;z-index: 0;}#sk-container-id-4 div.sk-serial {display: flex;flex-direction: column;align-items: center;background-color: white;padding-right: 0.2em;padding-left: 0.2em;position: relative;}#sk-container-id-4 div.sk-item {position: relative;z-index: 1;}#sk-container-id-4 div.sk-parallel {display: flex;align-items: stretch;justify-content: center;background-color: white;position: relative;}#sk-container-id-4 div.sk-item::before, #sk-container-id-4 div.sk-parallel-item::before {content: \"\";position: absolute;border-left: 1px solid gray;box-sizing: border-box;top: 0;bottom: 0;left: 50%;z-index: -1;}#sk-container-id-4 div.sk-parallel-item {display: flex;flex-direction: column;z-index: 1;position: relative;background-color: white;}#sk-container-id-4 div.sk-parallel-item:first-child::after {align-self: flex-end;width: 50%;}#sk-container-id-4 div.sk-parallel-item:last-child::after {align-self: flex-start;width: 50%;}#sk-container-id-4 div.sk-parallel-item:only-child::after {width: 0;}#sk-container-id-4 div.sk-dashed-wrapped {border: 1px dashed gray;margin: 0 0.4em 0.5em 0.4em;box-sizing: border-box;padding-bottom: 0.4em;background-color: white;}#sk-container-id-4 div.sk-label label {font-family: monospace;font-weight: bold;display: inline-block;line-height: 1.2em;}#sk-container-id-4 div.sk-label-container {text-align: center;}#sk-container-id-4 div.sk-container {/* jupyter's `normalize.less` sets `[hidden] { display: none; }` but bootstrap.min.css set `[hidden] { display: none !important; }` so we also need the `!important` here to be able to override the default hidden behavior on the sphinx rendered scikit-learn.org. See: https://github.com/scikit-learn/scikit-learn/issues/21755 */display: inline-block !important;position: relative;}#sk-container-id-4 div.sk-text-repr-fallback {display: none;}</style><div id=\"sk-container-id-4\" class=\"sk-top-container\"><div class=\"sk-text-repr-fallback\"><pre>LogisticRegression(max_iter=1000)</pre><b>In a Jupyter environment, please rerun this cell to show the HTML representation or trust the notebook. <br />On GitHub, the HTML representation is unable to render, please try loading this page with nbviewer.org.</b></div><div class=\"sk-container\" hidden><div class=\"sk-item\"><div class=\"sk-estimator sk-toggleable\"><input class=\"sk-toggleable__control sk-hidden--visually\" id=\"sk-estimator-id-4\" type=\"checkbox\" checked><label for=\"sk-estimator-id-4\" class=\"sk-toggleable__label sk-toggleable__label-arrow\">LogisticRegression</label><div class=\"sk-toggleable__content\"><pre>LogisticRegression(max_iter=1000)</pre></div></div></div></div></div>"
      ],
      "text/plain": [
       "LogisticRegression(max_iter=1000)"
      ]
     },
     "execution_count": 93,
     "metadata": {},
     "output_type": "execute_result"
    }
   ],
   "source": [
    "clf = LogisticRegression(max_iter=1000)\n",
    "clf.fit(cancel_train_X, cancel_train_Y)"
   ]
  },
  {
   "cell_type": "code",
   "execution_count": 94,
   "id": "48bcecb1",
   "metadata": {},
   "outputs": [
    {
     "name": "stdout",
     "output_type": "stream",
     "text": [
      "Accuracy: 0.9045633704125426\n"
     ]
    }
   ],
   "source": [
    "import numpy as np\n",
    "from sklearn.metrics import accuracy_score\n",
    "\n",
    "cancel_test_predictions = clf.predict(cancel_test_X)\n",
    "acc = accuracy_score(cancel_test_Y, cancel_test_predictions)\n",
    "\n",
    "print(f'Accuracy: {acc}')"
   ]
  },
  {
   "cell_type": "code",
   "execution_count": 95,
   "id": "67fcaded",
   "metadata": {},
   "outputs": [
    {
     "data": {
      "text/plain": [
       "array([[0.93484713, 0.06515287],\n",
       "       [0.88863187, 0.11136813],\n",
       "       [0.90314106, 0.09685894],\n",
       "       ...,\n",
       "       [0.97177281, 0.02822719],\n",
       "       [0.91793267, 0.08206733],\n",
       "       [0.79885784, 0.20114216]])"
      ]
     },
     "execution_count": 95,
     "metadata": {},
     "output_type": "execute_result"
    }
   ],
   "source": [
    "clf.predict_proba(cancel_test_X)"
   ]
  },
  {
   "cell_type": "markdown",
   "id": "47f9fa97",
   "metadata": {},
   "source": [
    "### Retrain on all data"
   ]
  },
  {
   "cell_type": "code",
   "execution_count": 96,
   "id": "14f504ac",
   "metadata": {},
   "outputs": [],
   "source": [
    "clf = LogisticRegression(max_iter=1000)\n",
    "clf.fit(cancel_X, cancel_Y)\n",
    "\n",
    "filename = 'saved_models/cancel_log_reg.sav'\n",
    "pickle.dump(clf, open(filename, 'wb'))"
   ]
  },
  {
   "cell_type": "code",
   "execution_count": 97,
   "id": "750e40a3",
   "metadata": {},
   "outputs": [
    {
     "name": "stdout",
     "output_type": "stream",
     "text": [
      "Accuracy: 0.9045808881492511\n"
     ]
    }
   ],
   "source": [
    "loaded_model = pickle.load(open(filename, 'rb'))\n",
    "\n",
    "cancel_test_predictions = loaded_model.predict(cancel_test_X)\n",
    "acc = accuracy_score(cancel_test_Y, cancel_test_predictions)\n",
    "\n",
    "print(f'Accuracy: {acc}')"
   ]
  },
  {
   "cell_type": "code",
   "execution_count": 98,
   "id": "bb7020cb",
   "metadata": {},
   "outputs": [
    {
     "data": {
      "text/plain": [
       "0.0648070440712828"
      ]
     },
     "execution_count": 98,
     "metadata": {},
     "output_type": "execute_result"
    }
   ],
   "source": [
    "loaded_model.predict_proba(cancel_test_X)[0][1]"
   ]
  },
  {
   "cell_type": "code",
   "execution_count": null,
   "id": "3866a044",
   "metadata": {},
   "outputs": [],
   "source": []
  }
 ],
 "metadata": {
  "kernelspec": {
   "display_name": "Python 3 (ipykernel)",
   "language": "python",
   "name": "python3"
  },
  "language_info": {
   "codemirror_mode": {
    "name": "ipython",
    "version": 3
   },
   "file_extension": ".py",
   "mimetype": "text/x-python",
   "name": "python",
   "nbconvert_exporter": "python",
   "pygments_lexer": "ipython3",
   "version": "3.10.6"
  }
 },
 "nbformat": 4,
 "nbformat_minor": 5
}
